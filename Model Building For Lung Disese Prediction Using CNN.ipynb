{
 "cells": [
  {
   "cell_type": "code",
   "execution_count": null,
   "id": "e1bef41a-a41a-41b1-88a9-39edda6299b3",
   "metadata": {},
   "outputs": [],
   "source": [
    "import tensorflow as tf\n",
    "from tensorflow.keras.preprocessing.image import ImageDataGenerator\n",
    "from tensorflow.keras import layers,models\n",
    "from tensorflow.keras.optimizers import Adam\n",
    "import numpy as np"
   ]
  },
  {
   "cell_type": "code",
   "execution_count": null,
   "id": "3b8724b7-f206-4930-81f0-8c50a4d2d65d",
   "metadata": {},
   "outputs": [],
   "source": [
    "data_directory=\"C:/Users/PC/Downloads/rscbjbr9sj-2/ChestXRay2017/chest_xray/train\"\n",
    "image_width,image_height=150,150\n",
    "datagen = ImageDataGenerator(\n",
    "    rescale=1./255,\n",
    "    rotation_range=20,\n",
    "    width_shift_range=0.2,\n",
    "    height_shift_range=0.2,\n",
    "    horizontal_flip=True,\n",
    "    validation_split=0.2  \n",
    ")\n",
    "train_generator = datagen.flow_from_directory(\n",
    "    data_directory,\n",
    "    target_size=(image_width, image_height),\n",
    "    batch_size=32,\n",
    "    color_mode='grayscale',\n",
    "    class_mode='binary',\n",
    "    subset='training'\n",
    ")\n",
    "validation_generator = datagen.flow_from_directory(\n",
    "    data_directory,\n",
    "    target_size=(image_width, image_height),\n",
    "    batch_size=32,\n",
    "    color_mode='grayscale',\n",
    "    class_mode='binary',\n",
    "    subset='validation'\n",
    ")\n",
    "\n"
   ]
  },
  {
   "cell_type": "code",
   "execution_count": null,
   "id": "e81fc52a-9d55-4e35-abe8-5b5fe1c32ae6",
   "metadata": {},
   "outputs": [],
   "source": [
    "model=models.Sequential([\n",
    "    layers.Conv2D(filters=32,kernel_size=(3,3),activation=\"relu\",input_shape=(image_width,image_height,1)),\n",
    "    layers.MaxPooling2D((2,2)),\n",
    "    layers.Conv2D(filters=40,kernel_size=(3,3),activation=\"relu\"),\n",
    "    layers.MaxPooling2D((2,2)),\n",
    "    layers.Conv2D(filters=50,kernel_size=(3,3),activation=\"relu\"),\n",
    "    layers.MaxPooling2D((2,2)),\n",
    "    layers.Flatten(),\n",
    "    layers.Dense(300,activation=\"relu\"),\n",
    "    layers.Dropout(rate=0.1),\n",
    "    layers.Dense(200,activation=\"relu\"),\n",
    "    layers.Dropout(rate=0.5),\n",
    "    layers.Dense(1,activation=\"sigmoid\")])"
   ]
  },
  {
   "cell_type": "code",
   "execution_count": null,
   "id": "6d50e5a2-4425-41fe-913a-1a89667f8145",
   "metadata": {},
   "outputs": [],
   "source": [
    "model.compile(optimizer=Adam(learning_rate=0.001),loss=\"binary_crossentropy\",metrics=[\"accuracy\"])"
   ]
  },
  {
   "cell_type": "code",
   "execution_count": null,
   "id": "17dadb13-b387-4803-b6d2-1107d4c53b7e",
   "metadata": {},
   "outputs": [],
   "source": [
    "history=model.fit(train_generator,steps_per_epoch=train_generator.samples//train_generator.batch_size,epochs=10,\n",
    "                  validation_data=validation_generator,validation_steps=validation_generator.samples//validation_generator.batch_size)"
   ]
  },
  {
   "cell_type": "code",
   "execution_count": null,
   "id": "c0e6321f-490c-42b5-8642-92da3c5881d6",
   "metadata": {},
   "outputs": [],
   "source": [
    "model.evaluate(validation_generator)"
   ]
  },
  {
   "cell_type": "code",
   "execution_count": null,
   "id": "f1eaea93-a2cb-4a00-90d7-efc402aeb428",
   "metadata": {},
   "outputs": [],
   "source": [
    "model.save(\"E:/New folder (3)/lungs_project.h5\")"
   ]
  },
  {
   "cell_type": "code",
   "execution_count": null,
   "id": "d42c6c7d-142c-4c14-ba20-ad615d4d79b4",
   "metadata": {},
   "outputs": [],
   "source": [
    "from tensorflow.keras.models import load_model"
   ]
  },
  {
   "cell_type": "code",
   "execution_count": null,
   "id": "4465e0c2-9380-4a34-a92a-03a76f4de6d7",
   "metadata": {},
   "outputs": [],
   "source": [
    "model=load_model(\"E:/New folder (3)/lungs_project.h5\")"
   ]
  },
  {
   "cell_type": "code",
   "execution_count": null,
   "id": "7951a188-5a95-4e25-b613-7d28620e6cd3",
   "metadata": {},
   "outputs": [],
   "source": [
    "image_path=(\"C:/Users/PC/Downloads/rscbjbr9sj-2/ChestXRay2017/chest_xray/train/PNEUMONIA/person10_bacteria_43.jpeg\")"
   ]
  },
  {
   "cell_type": "code",
   "execution_count": null,
   "id": "19aa85a6-ca63-4a17-855a-ae6a7162bf69",
   "metadata": {},
   "outputs": [],
   "source": [
    "from tensorflow.keras.preprocessing import image\n",
    "img=image.load_img(image_path,target_size=(150,150,1),color_mode='grayscale')\n",
    "image_arr=image.img_to_array(img)\n",
    "img_array=np.expand_dims(image_arr,axis=0)\n",
    "img_array=img_array/255.0"
   ]
  },
  {
   "cell_type": "code",
   "execution_count": null,
   "id": "df763ec9-92c1-45c6-861a-dacfad876fe3",
   "metadata": {},
   "outputs": [],
   "source": [
    "predictions=model.predict(img_array)\n",
    "if predictions<0.5:\n",
    "    print(\"negative\")\n",
    "else:\n",
    "    print(\"positive\")"
   ]
  }
 ],
 "metadata": {
  "kernelspec": {
   "display_name": "Python 3 (ipykernel)",
   "language": "python",
   "name": "python3"
  },
  "language_info": {
   "codemirror_mode": {
    "name": "ipython",
    "version": 3
   },
   "file_extension": ".py",
   "mimetype": "text/x-python",
   "name": "python",
   "nbconvert_exporter": "python",
   "pygments_lexer": "ipython3",
   "version": "3.11.7"
  }
 },
 "nbformat": 4,
 "nbformat_minor": 5
}
